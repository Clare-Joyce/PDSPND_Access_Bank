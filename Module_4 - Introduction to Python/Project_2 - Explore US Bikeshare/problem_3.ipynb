{
 "cells": [
  {
   "cell_type": "markdown",
   "metadata": {},
   "source": [
    "### Practice Problem #3: Load and Filter the Dataset\n",
    "This is a bit of a bigger task, which involves choosing a dataset to load and filtering it based on a specified month and day. In the quiz below, you'll implement the load_data() function, which you can use directly in your project. There are four steps:\n",
    "\n",
    "* **Load the dataset for the specified city.** Index the global CITY_DATA dictionary object to get the corresponding filename for the given city name.\n",
    "* **Create month and day_of_week columns.** Convert the \"Start Time\" column to datetime and extract the month number and weekday name into separate columns using the datetime module.\n",
    "*  **Filter by month.** Since the month parameter is given as the name of the month, you'll need to first convert this to the corresponding month number. Then, select rows of the dataframe that have the specified month and reassign this as the new dataframe.\n",
    "* **Filter by day of week.** Select rows of the dataframe that have the specified day of week and reassign this as the new dataframe. (Note: Capitalize the day parameter with the title() method to match the title case used in the day_of_week column!)"
   ]
  },
  {
   "cell_type": "code",
   "execution_count": 1,
   "metadata": {},
   "outputs": [],
   "source": [
    "import pandas as pd"
   ]
  },
  {
   "cell_type": "code",
   "execution_count": 2,
   "metadata": {},
   "outputs": [],
   "source": [
    "CITY_DATA = { 'chicago': 'chicago.csv',\n",
    "              'new york city': 'new_york_city.csv',\n",
    "              'washington': 'washington.csv' }\n",
    "\n",
    "def load_data(city, month, day):\n",
    "    \"\"\"\n",
    "    Loads data for the specified city and filters by month and day if applicable.\n",
    "\n",
    "    Args:\n",
    "        (str) city - name of the city to analyze\n",
    "        (str) month - name of the month to filter by, or \"all\" to apply no month filter\n",
    "        (str) day - name of the day of week to filter by, or \"all\" to apply no day filter\n",
    "    Returns:\n",
    "        df - pandas DataFrame containing city data filtered by month and day\n",
    "    \"\"\"\n",
    "    \n",
    "    # load data file into a dataframe\n",
    "    df = pd.read_csv(CITY_DATA.get(city))\n",
    "\n",
    "    # convert the Start Time column to datetime\n",
    "    df['Start Time'] = pd.to_datetime(df['Start Time'])\n",
    "\n",
    "    # extract month and day of week from Start Time to create new columns\n",
    "    df['month'] = df['Start Time'].dt.month\n",
    "    df['day_of_week'] = df['Start Time'].dt.day_name()\n",
    "\n",
    "    # filter by month if applicable\n",
    "    if month != 'all':\n",
    "        # use the index of the months list to get the corresponding int\n",
    "        months = ['january', 'february', 'march', 'april', 'may', 'june']\n",
    "        # Note that the month from dt come as numbers\n",
    "        month = months.index(month) + 1\n",
    "    \n",
    "        # filter by month to create the new dataframe\n",
    "        df = df[df['month']==month]\n",
    "        \n",
    "\n",
    "    # filter by day of week if applicable\n",
    "    if day != 'all':\n",
    "        # filter by day of week to create the new dataframe\n",
    "        df = df[df['day_of_week']==day.title()]\n",
    "        # print(df.head())\n",
    "    return df\n",
    "    \n",
    "df = load_data('chicago', 'march', 'friday')"
   ]
  },
  {
   "cell_type": "code",
   "execution_count": 3,
   "metadata": {},
   "outputs": [
    {
     "data": {
      "text/html": [
       "<div>\n",
       "<style scoped>\n",
       "    .dataframe tbody tr th:only-of-type {\n",
       "        vertical-align: middle;\n",
       "    }\n",
       "\n",
       "    .dataframe tbody tr th {\n",
       "        vertical-align: top;\n",
       "    }\n",
       "\n",
       "    .dataframe thead th {\n",
       "        text-align: right;\n",
       "    }\n",
       "</style>\n",
       "<table border=\"1\" class=\"dataframe\">\n",
       "  <thead>\n",
       "    <tr style=\"text-align: right;\">\n",
       "      <th></th>\n",
       "      <th>Unnamed: 0</th>\n",
       "      <th>Start Time</th>\n",
       "      <th>End Time</th>\n",
       "      <th>Trip Duration</th>\n",
       "      <th>Start Station</th>\n",
       "      <th>End Station</th>\n",
       "      <th>User Type</th>\n",
       "      <th>Gender</th>\n",
       "      <th>Birth Year</th>\n",
       "      <th>month</th>\n",
       "      <th>day_of_week</th>\n",
       "    </tr>\n",
       "  </thead>\n",
       "  <tbody>\n",
       "    <tr>\n",
       "      <th>37</th>\n",
       "      <td>395803</td>\n",
       "      <td>2017-03-24 15:35:55</td>\n",
       "      <td>2017-03-24 15:46:10</td>\n",
       "      <td>615</td>\n",
       "      <td>Dearborn St &amp; Erie St</td>\n",
       "      <td>State St &amp; Van Buren St</td>\n",
       "      <td>Subscriber</td>\n",
       "      <td>Male</td>\n",
       "      <td>1989.0</td>\n",
       "      <td>3</td>\n",
       "      <td>Friday</td>\n",
       "    </tr>\n",
       "    <tr>\n",
       "      <th>93</th>\n",
       "      <td>395735</td>\n",
       "      <td>2017-03-24 15:32:04</td>\n",
       "      <td>2017-03-24 15:52:53</td>\n",
       "      <td>1249</td>\n",
       "      <td>Sedgwick St &amp; Webster Ave</td>\n",
       "      <td>Western Ave &amp; Winnebago Ave</td>\n",
       "      <td>Subscriber</td>\n",
       "      <td>Female</td>\n",
       "      <td>1964.0</td>\n",
       "      <td>3</td>\n",
       "      <td>Friday</td>\n",
       "    </tr>\n",
       "    <tr>\n",
       "      <th>175</th>\n",
       "      <td>395402</td>\n",
       "      <td>2017-03-24 15:10:29</td>\n",
       "      <td>2017-03-24 15:19:44</td>\n",
       "      <td>555</td>\n",
       "      <td>Franklin St &amp; Monroe St</td>\n",
       "      <td>Aberdeen St &amp; Monroe St</td>\n",
       "      <td>Subscriber</td>\n",
       "      <td>Male</td>\n",
       "      <td>1987.0</td>\n",
       "      <td>3</td>\n",
       "      <td>Friday</td>\n",
       "    </tr>\n",
       "    <tr>\n",
       "      <th>190</th>\n",
       "      <td>393400</td>\n",
       "      <td>2017-03-24 12:29:30</td>\n",
       "      <td>2017-03-24 12:48:56</td>\n",
       "      <td>1166</td>\n",
       "      <td>Southport Ave &amp; Wellington Ave</td>\n",
       "      <td>Lake Shore Dr &amp; North Blvd</td>\n",
       "      <td>Subscriber</td>\n",
       "      <td>Female</td>\n",
       "      <td>1984.0</td>\n",
       "      <td>3</td>\n",
       "      <td>Friday</td>\n",
       "    </tr>\n",
       "    <tr>\n",
       "      <th>198</th>\n",
       "      <td>427496</td>\n",
       "      <td>2017-03-31 08:25:53</td>\n",
       "      <td>2017-03-31 08:39:09</td>\n",
       "      <td>796</td>\n",
       "      <td>Clinton St &amp; Jackson Blvd</td>\n",
       "      <td>Racine Ave (May St) &amp; Fulton St</td>\n",
       "      <td>Subscriber</td>\n",
       "      <td>Male</td>\n",
       "      <td>1983.0</td>\n",
       "      <td>3</td>\n",
       "      <td>Friday</td>\n",
       "    </tr>\n",
       "  </tbody>\n",
       "</table>\n",
       "</div>"
      ],
      "text/plain": [
       "     Unnamed: 0          Start Time             End Time  Trip Duration  \\\n",
       "37       395803 2017-03-24 15:35:55  2017-03-24 15:46:10            615   \n",
       "93       395735 2017-03-24 15:32:04  2017-03-24 15:52:53           1249   \n",
       "175      395402 2017-03-24 15:10:29  2017-03-24 15:19:44            555   \n",
       "190      393400 2017-03-24 12:29:30  2017-03-24 12:48:56           1166   \n",
       "198      427496 2017-03-31 08:25:53  2017-03-31 08:39:09            796   \n",
       "\n",
       "                      Start Station                      End Station  \\\n",
       "37            Dearborn St & Erie St          State St & Van Buren St   \n",
       "93        Sedgwick St & Webster Ave      Western Ave & Winnebago Ave   \n",
       "175         Franklin St & Monroe St          Aberdeen St & Monroe St   \n",
       "190  Southport Ave & Wellington Ave       Lake Shore Dr & North Blvd   \n",
       "198       Clinton St & Jackson Blvd  Racine Ave (May St) & Fulton St   \n",
       "\n",
       "      User Type  Gender  Birth Year  month day_of_week  \n",
       "37   Subscriber    Male      1989.0      3      Friday  \n",
       "93   Subscriber  Female      1964.0      3      Friday  \n",
       "175  Subscriber    Male      1987.0      3      Friday  \n",
       "190  Subscriber  Female      1984.0      3      Friday  \n",
       "198  Subscriber    Male      1983.0      3      Friday  "
      ]
     },
     "execution_count": 3,
     "metadata": {},
     "output_type": "execute_result"
    }
   ],
   "source": [
    "df.head()"
   ]
  },
  {
   "cell_type": "code",
   "execution_count": 4,
   "metadata": {},
   "outputs": [
    {
     "data": {
      "text/html": [
       "<div>\n",
       "<style scoped>\n",
       "    .dataframe tbody tr th:only-of-type {\n",
       "        vertical-align: middle;\n",
       "    }\n",
       "\n",
       "    .dataframe tbody tr th {\n",
       "        vertical-align: top;\n",
       "    }\n",
       "\n",
       "    .dataframe thead th {\n",
       "        text-align: right;\n",
       "    }\n",
       "</style>\n",
       "<table border=\"1\" class=\"dataframe\">\n",
       "  <thead>\n",
       "    <tr style=\"text-align: right;\">\n",
       "      <th></th>\n",
       "      <th>Unnamed: 0</th>\n",
       "      <th>Start Time</th>\n",
       "      <th>End Time</th>\n",
       "      <th>Trip Duration</th>\n",
       "      <th>Start Station</th>\n",
       "      <th>End Station</th>\n",
       "      <th>User Type</th>\n",
       "      <th>month</th>\n",
       "      <th>day_of_week</th>\n",
       "    </tr>\n",
       "  </thead>\n",
       "  <tbody>\n",
       "    <tr>\n",
       "      <th>0</th>\n",
       "      <td>1621326</td>\n",
       "      <td>2017-06-21 08:36:34</td>\n",
       "      <td>2017-06-21 08:44:43</td>\n",
       "      <td>489.066</td>\n",
       "      <td>14th &amp; Belmont St NW</td>\n",
       "      <td>15th &amp; K St NW</td>\n",
       "      <td>Subscriber</td>\n",
       "      <td>6</td>\n",
       "      <td>Wednesday</td>\n",
       "    </tr>\n",
       "    <tr>\n",
       "      <th>1</th>\n",
       "      <td>482740</td>\n",
       "      <td>2017-03-11 10:40:00</td>\n",
       "      <td>2017-03-11 10:46:00</td>\n",
       "      <td>402.549</td>\n",
       "      <td>Yuma St &amp; Tenley Circle NW</td>\n",
       "      <td>Connecticut Ave &amp; Yuma St NW</td>\n",
       "      <td>Subscriber</td>\n",
       "      <td>3</td>\n",
       "      <td>Saturday</td>\n",
       "    </tr>\n",
       "    <tr>\n",
       "      <th>2</th>\n",
       "      <td>1330037</td>\n",
       "      <td>2017-05-30 01:02:59</td>\n",
       "      <td>2017-05-30 01:13:37</td>\n",
       "      <td>637.251</td>\n",
       "      <td>17th St &amp; Massachusetts Ave NW</td>\n",
       "      <td>5th &amp; K St NW</td>\n",
       "      <td>Subscriber</td>\n",
       "      <td>5</td>\n",
       "      <td>Tuesday</td>\n",
       "    </tr>\n",
       "    <tr>\n",
       "      <th>3</th>\n",
       "      <td>665458</td>\n",
       "      <td>2017-04-02 07:48:35</td>\n",
       "      <td>2017-04-02 08:19:03</td>\n",
       "      <td>1827.341</td>\n",
       "      <td>Constitution Ave &amp; 2nd St NW/DOL</td>\n",
       "      <td>M St &amp; Pennsylvania Ave NW</td>\n",
       "      <td>Customer</td>\n",
       "      <td>4</td>\n",
       "      <td>Sunday</td>\n",
       "    </tr>\n",
       "    <tr>\n",
       "      <th>4</th>\n",
       "      <td>1481135</td>\n",
       "      <td>2017-06-10 08:36:28</td>\n",
       "      <td>2017-06-10 09:02:17</td>\n",
       "      <td>1549.427</td>\n",
       "      <td>Henry Bacon Dr &amp; Lincoln Memorial Circle NW</td>\n",
       "      <td>Maine Ave &amp; 7th St SW</td>\n",
       "      <td>Subscriber</td>\n",
       "      <td>6</td>\n",
       "      <td>Saturday</td>\n",
       "    </tr>\n",
       "  </tbody>\n",
       "</table>\n",
       "</div>"
      ],
      "text/plain": [
       "   Unnamed: 0          Start Time             End Time  Trip Duration  \\\n",
       "0     1621326 2017-06-21 08:36:34  2017-06-21 08:44:43        489.066   \n",
       "1      482740 2017-03-11 10:40:00  2017-03-11 10:46:00        402.549   \n",
       "2     1330037 2017-05-30 01:02:59  2017-05-30 01:13:37        637.251   \n",
       "3      665458 2017-04-02 07:48:35  2017-04-02 08:19:03       1827.341   \n",
       "4     1481135 2017-06-10 08:36:28  2017-06-10 09:02:17       1549.427   \n",
       "\n",
       "                                 Start Station                   End Station  \\\n",
       "0                         14th & Belmont St NW                15th & K St NW   \n",
       "1                   Yuma St & Tenley Circle NW  Connecticut Ave & Yuma St NW   \n",
       "2               17th St & Massachusetts Ave NW                 5th & K St NW   \n",
       "3             Constitution Ave & 2nd St NW/DOL    M St & Pennsylvania Ave NW   \n",
       "4  Henry Bacon Dr & Lincoln Memorial Circle NW         Maine Ave & 7th St SW   \n",
       "\n",
       "    User Type  month day_of_week  \n",
       "0  Subscriber      6   Wednesday  \n",
       "1  Subscriber      3    Saturday  \n",
       "2  Subscriber      5     Tuesday  \n",
       "3    Customer      4      Sunday  \n",
       "4  Subscriber      6    Saturday  "
      ]
     },
     "execution_count": 4,
     "metadata": {},
     "output_type": "execute_result"
    }
   ],
   "source": [
    "# print(f\"Most commonly used start and end stations: \"\n",
    "df = load_data('washington', 'all', 'all')\n",
    "df.head()"
   ]
  },
  {
   "cell_type": "code",
   "execution_count": 5,
   "metadata": {},
   "outputs": [
    {
     "data": {
      "text/plain": [
       "'Columbus Circle / Union Station'"
      ]
     },
     "execution_count": 5,
     "metadata": {},
     "output_type": "execute_result"
    }
   ],
   "source": [
    "df['Start Station'].mode()[0]"
   ]
  },
  {
   "cell_type": "code",
   "execution_count": 6,
   "metadata": {},
   "outputs": [
    {
     "data": {
      "text/plain": [
       "'Columbus Circle / Union Station'"
      ]
     },
     "execution_count": 6,
     "metadata": {},
     "output_type": "execute_result"
    }
   ],
   "source": [
    "df['End Station'].mode()[0]"
   ]
  },
  {
   "cell_type": "code",
   "execution_count": 7,
   "metadata": {},
   "outputs": [
    {
     "data": {
      "text/plain": [
       "('Jefferson Dr & 14th St SW', 'Jefferson Dr & 14th St SW')"
      ]
     },
     "execution_count": 7,
     "metadata": {},
     "output_type": "execute_result"
    }
   ],
   "source": [
    "df.groupby(['Start Station', 'End Station']).size().idxmax()"
   ]
  },
  {
   "cell_type": "code",
   "execution_count": 50,
   "metadata": {},
   "outputs": [
    {
     "data": {
      "text/plain": [
       "End Station\n",
       "Streeter Dr & Grand Ave    7512\n",
       "dtype: int64"
      ]
     },
     "execution_count": 50,
     "metadata": {},
     "output_type": "execute_result"
    }
   ],
   "source": [
    "df.groupby(['End Station']).size().nlargest(1)"
   ]
  },
  {
   "cell_type": "code",
   "execution_count": 51,
   "metadata": {},
   "outputs": [
    {
     "data": {
      "text/plain": [
       "'Tuesday'"
      ]
     },
     "execution_count": 51,
     "metadata": {},
     "output_type": "execute_result"
    }
   ],
   "source": [
    "df['day_of_week'].value_counts().idxmax()"
   ]
  },
  {
   "cell_type": "code",
   "execution_count": 52,
   "metadata": {},
   "outputs": [
    {
     "data": {
      "text/plain": [
       "'Tuesday'"
      ]
     },
     "execution_count": 52,
     "metadata": {},
     "output_type": "execute_result"
    }
   ],
   "source": [
    "df['day_of_week'].mode()[0]"
   ]
  },
  {
   "cell_type": "code",
   "execution_count": 62,
   "metadata": {},
   "outputs": [
    {
     "name": "stdout",
     "output_type": "stream",
     "text": [
      "<class 'pandas.core.frame.DataFrame'>\n",
      "RangeIndex: 300000 entries, 0 to 299999\n",
      "Data columns (total 11 columns):\n",
      " #   Column         Non-Null Count   Dtype         \n",
      "---  ------         --------------   -----         \n",
      " 0   Unnamed: 0     300000 non-null  int64         \n",
      " 1   Start Time     300000 non-null  datetime64[ns]\n",
      " 2   End Time       300000 non-null  object        \n",
      " 3   Trip Duration  300000 non-null  int64         \n",
      " 4   Start Station  300000 non-null  object        \n",
      " 5   End Station    300000 non-null  object        \n",
      " 6   User Type      300000 non-null  object        \n",
      " 7   Gender         238948 non-null  object        \n",
      " 8   Birth Year     238981 non-null  float64       \n",
      " 9   month          300000 non-null  int64         \n",
      " 10  day_of_week    300000 non-null  object        \n",
      "dtypes: datetime64[ns](1), float64(1), int64(3), object(6)\n",
      "memory usage: 25.2+ MB\n"
     ]
    }
   ],
   "source": [
    "df.info()"
   ]
  },
  {
   "cell_type": "code",
   "execution_count": null,
   "metadata": {},
   "outputs": [],
   "source": []
  }
 ],
 "metadata": {
  "interpreter": {
   "hash": "40d3a090f54c6569ab1632332b64b2c03c39dcf918b08424e98f38b5ae0af88f"
  },
  "kernelspec": {
   "display_name": "Python 3.8.11 64-bit ('base': conda)",
   "name": "python3"
  },
  "language_info": {
   "codemirror_mode": {
    "name": "ipython",
    "version": 3
   },
   "file_extension": ".py",
   "mimetype": "text/x-python",
   "name": "python",
   "nbconvert_exporter": "python",
   "pygments_lexer": "ipython3",
   "version": "3.8.11"
  },
  "orig_nbformat": 4
 },
 "nbformat": 4,
 "nbformat_minor": 2
}
