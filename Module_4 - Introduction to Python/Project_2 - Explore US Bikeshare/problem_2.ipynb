{
 "cells": [
  {
   "cell_type": "markdown",
   "metadata": {},
   "source": [
    "### Practice Problem #2: Display a Breakdown of User Types\n",
    "There are different types of users specified in the \"User Type\" column. Find how many there are of each type and store the counts in a pandas Series in the user_types variable.\n",
    "\n",
    "*Hint: What pandas function returns a Series with the counts of each unique value in a column?*"
   ]
  },
  {
   "cell_type": "code",
   "execution_count": 1,
   "metadata": {},
   "outputs": [
    {
     "name": "stdout",
     "output_type": "stream",
     "text": [
      "Subscriber    330\n",
      "Customer       70\n",
      "Name: User Type, dtype: int64\n"
     ]
    }
   ],
   "source": [
    "import pandas as pd\n",
    "\n",
    "filename = 'chicago.csv'\n",
    "\n",
    "# load data file into a dataframe\n",
    "df = pd.read_csv('chicago.csv')\n",
    "\n",
    "# print value counts for each user type\n",
    "user_types = df['User Type'].value_counts()\n",
    "\n",
    "print(user_types)"
   ]
  }
 ],
 "metadata": {
  "interpreter": {
   "hash": "40d3a090f54c6569ab1632332b64b2c03c39dcf918b08424e98f38b5ae0af88f"
  },
  "kernelspec": {
   "display_name": "Python 3.8.11 64-bit ('base': conda)",
   "name": "python3"
  },
  "language_info": {
   "codemirror_mode": {
    "name": "ipython",
    "version": 3
   },
   "file_extension": ".py",
   "mimetype": "text/x-python",
   "name": "python",
   "nbconvert_exporter": "python",
   "pygments_lexer": "ipython3",
   "version": "3.8.11"
  },
  "orig_nbformat": 4
 },
 "nbformat": 4,
 "nbformat_minor": 2
}
